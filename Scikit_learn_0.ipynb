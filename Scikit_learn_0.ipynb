{
  "nbformat": 4,
  "nbformat_minor": 0,
  "metadata": {
    "colab": {
      "name": "Scikit_learn_0.ipynb",
      "provenance": [],
      "collapsed_sections": [],
      "authorship_tag": "ABX9TyOzO2/e444QAY2heBdC4uPI",
      "include_colab_link": true
    },
    "kernelspec": {
      "name": "python3",
      "display_name": "Python 3"
    }
  },
  "cells": [
    {
      "cell_type": "markdown",
      "metadata": {
        "id": "view-in-github",
        "colab_type": "text"
      },
      "source": [
        "<a href=\"https://colab.research.google.com/github/sanjeev30798/Machine-Learning/blob/main/Scikit_learn_0.ipynb\" target=\"_parent\"><img src=\"https://colab.research.google.com/assets/colab-badge.svg\" alt=\"Open In Colab\"/></a>"
      ]
    },
    {
      "cell_type": "markdown",
      "metadata": {
        "id": "g82HSaF60NlC"
      },
      "source": [
        "Scikit learn has datasets for classification and one for classification.\n",
        "\n",
        "> For classification they are: iris and digits\n",
        "\n",
        "\n",
        "> For regression : Boston House Price Prediction \n",
        "\n"
      ]
    },
    {
      "cell_type": "markdown",
      "metadata": {
        "id": "B5M0vVJ_1Eqx"
      },
      "source": [
        "Following is an example to load iris dataset"
      ]
    },
    {
      "cell_type": "code",
      "metadata": {
        "id": "vvA1kWFm0KFb",
        "outputId": "07ed4e38-d607-4bbf-c6e3-8f318ca89ff9",
        "colab": {
          "base_uri": "https://localhost:8080/",
          "height": 437
        }
      },
      "source": [
        "from sklearn.datasets import load_iris\n",
        "iris=load_iris()\n",
        "x=iris.data\n",
        "y=iris.target\n",
        "feature=iris.feature_names\n",
        "target=iris.target_names\n",
        "print(\"List of features are : \\n\",feature)\n",
        "print(\"\\nThe target variables are :\\n\",target)\n",
        "print(\"\\nFirst 15 datasets are :\\n\",x[:15])\n",
        "print(\"\\nResult of target variable :\\n\",y[:15]) # 0 for setosa 1 for versicolor and 2 for virginica\n",
        "# for the this dataset changing y[:15] to y will give you a result which has 0, 1, 2"
      ],
      "execution_count": null,
      "outputs": [
        {
          "output_type": "stream",
          "text": [
            "List of features are : \n",
            " ['sepal length (cm)', 'sepal width (cm)', 'petal length (cm)', 'petal width (cm)']\n",
            "\n",
            "The target variables are :\n",
            " ['setosa' 'versicolor' 'virginica']\n",
            "\n",
            "First 15 datasets are :\n",
            " [[5.1 3.5 1.4 0.2]\n",
            " [4.9 3.  1.4 0.2]\n",
            " [4.7 3.2 1.3 0.2]\n",
            " [4.6 3.1 1.5 0.2]\n",
            " [5.  3.6 1.4 0.2]\n",
            " [5.4 3.9 1.7 0.4]\n",
            " [4.6 3.4 1.4 0.3]\n",
            " [5.  3.4 1.5 0.2]\n",
            " [4.4 2.9 1.4 0.2]\n",
            " [4.9 3.1 1.5 0.1]\n",
            " [5.4 3.7 1.5 0.2]\n",
            " [4.8 3.4 1.6 0.2]\n",
            " [4.8 3.  1.4 0.1]\n",
            " [4.3 3.  1.1 0.1]\n",
            " [5.8 4.  1.2 0.2]]\n",
            "\n",
            "Result of target variable :\n",
            " [0 0 0 0 0 0 0 0 0 0 0 0 0 0 0]\n"
          ],
          "name": "stdout"
        }
      ]
    },
    {
      "cell_type": "markdown",
      "metadata": {
        "id": "4A33O84A4C3s"
      },
      "source": [
        "For training a model we need to split the dataset between training and testing dataset"
      ]
    },
    {
      "cell_type": "code",
      "metadata": {
        "id": "f9lqeu6a4L1O",
        "outputId": "605c4030-f20b-4bab-e934-36584d84ddf3",
        "colab": {
          "base_uri": "https://localhost:8080/",
          "height": 151
        }
      },
      "source": [
        "from sklearn.model_selection import train_test_split\n",
        "x_train,x_test,y_train,y_test=train_test_split(x,y,train_size=0.7,test_size=0.3) \n",
        "# train size and test size is optional unless required\n",
        "# random_state=1 is also optional\n",
        "# sum of test_size and train_size should be 1\n",
        "# by default the ratio of train and test is 75 : 25\n",
        "print(\"Size of original dataset\",len(x),len(y))\n",
        "print(\"Size of training dataset\",len(x_train),len(y_train))\n",
        "print(\"Size of testing dataset\",len(x_test),len(y_test))\n",
        "print(\"\\n\")\n",
        "print(\"Shape of original dataset\",x.shape,y.shape)\n",
        "print(\"Shape of training dataset\",x_train.shape,y_train.shape)\n",
        "print(\"Shape of testing dataset\",x_test.shape,y_test.shape)"
      ],
      "execution_count": null,
      "outputs": [
        {
          "output_type": "stream",
          "text": [
            "Size of original dataset 150 150\n",
            "Size of training dataset 105 105\n",
            "Size of testing dataset 45 45\n",
            "\n",
            "\n",
            "Shape of original dataset (150, 4) (150,)\n",
            "Shape of training dataset (105, 4) (105,)\n",
            "Shape of testing dataset (45, 4) (45,)\n"
          ],
          "name": "stdout"
        }
      ]
    },
    {
      "cell_type": "markdown",
      "metadata": {
        "id": "IYhbHtMG-WNI"
      },
      "source": [
        "KNN algorithm\n",
        "\n",
        "In this algorithm the distance is calculated between a test data point and each of the training data point. Then the calculated distance is arranged in ascending order. From this top K are choosen and now, it will assign a class to the test point based on most frequent class of these rows. "
      ]
    },
    {
      "cell_type": "code",
      "metadata": {
        "id": "SATSfDiZ_hcW",
        "outputId": "dd6f7bdb-9ffb-41ce-e412-1c382914d953",
        "colab": {
          "base_uri": "https://localhost:8080/",
          "height": 34
        }
      },
      "source": [
        "from sklearn.neighbors import KNeighborsClassifier\n",
        "from sklearn import metrics\n",
        "classifier=KNeighborsClassifier(n_neighbors=3)\n",
        "classifier.fit(x_train,y_train)\n",
        "y_pred=classifier.predict(x_test)\n",
        "print(\"The accuracy is : \",metrics.accuracy_score(y_test,y_pred))"
      ],
      "execution_count": null,
      "outputs": [
        {
          "output_type": "stream",
          "text": [
            "The accuracy is :  0.9777777777777777\n"
          ],
          "name": "stdout"
        }
      ]
    },
    {
      "cell_type": "markdown",
      "metadata": {
        "id": "0qNozmJtBZBO"
      },
      "source": [
        "Now lets check with a sample data "
      ]
    },
    {
      "cell_type": "code",
      "metadata": {
        "id": "eF23qZ5JBewt",
        "outputId": "978f0c98-aea0-42c5-c7a4-db3af38b352a",
        "colab": {
          "base_uri": "https://localhost:8080/",
          "height": 67
        }
      },
      "source": [
        "sample=[[5, 5, 3, 2], [2, 4, 3, 5]]\n",
        "prediction=classifier.predict(sample)\n",
        "for i in prediction:\n",
        "  print(i,target[i])\n",
        "print()"
      ],
      "execution_count": null,
      "outputs": [
        {
          "output_type": "stream",
          "text": [
            "0 setosa\n",
            "2 virginica\n",
            "\n"
          ],
          "name": "stdout"
        }
      ]
    },
    {
      "cell_type": "code",
      "metadata": {
        "id": "umn1YLchh-hV"
      },
      "source": [
        ""
      ],
      "execution_count": null,
      "outputs": []
    }
  ]
}