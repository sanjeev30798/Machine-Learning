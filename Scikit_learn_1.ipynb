{
  "nbformat": 4,
  "nbformat_minor": 0,
  "metadata": {
    "colab": {
      "name": "Scikit_learn_1.ipynb",
      "provenance": [],
      "collapsed_sections": [],
      "authorship_tag": "ABX9TyMj+hvGHMmFlcSDCdeAkdqL",
      "include_colab_link": true
    },
    "kernelspec": {
      "name": "python3",
      "display_name": "Python 3"
    }
  },
  "cells": [
    {
      "cell_type": "markdown",
      "metadata": {
        "id": "view-in-github",
        "colab_type": "text"
      },
      "source": [
        "<a href=\"https://colab.research.google.com/github/sanjeev30798/Machine-Learning/blob/main/Scikit_learn_1.ipynb\" target=\"_parent\"><img src=\"https://colab.research.google.com/assets/colab-badge.svg\" alt=\"Open In Colab\"/></a>"
      ]
    },
    {
      "cell_type": "code",
      "metadata": {
        "id": "WrNS7QCZNpdi"
      },
      "source": [
        "import matplotlib.pyplot as plt"
      ],
      "execution_count": null,
      "outputs": []
    },
    {
      "cell_type": "code",
      "metadata": {
        "id": "d7T0Bc54N5_U",
        "outputId": "54ab9528-bf4d-4427-c23a-3418098285fc",
        "colab": {
          "base_uri": "https://localhost:8080/",
          "height": 34
        }
      },
      "source": [
        "x=[i for i in range(10)]\n",
        "print(x)"
      ],
      "execution_count": null,
      "outputs": [
        {
          "output_type": "stream",
          "text": [
            "[0, 1, 2, 3, 4, 5, 6, 7, 8, 9]\n"
          ],
          "name": "stdout"
        }
      ]
    },
    {
      "cell_type": "code",
      "metadata": {
        "id": "Ca04c_xsOD1O",
        "outputId": "f0c8f8dc-e333-4861-e475-f1bd94d31fab",
        "colab": {
          "base_uri": "https://localhost:8080/",
          "height": 34
        }
      },
      "source": [
        "y=[i for i in range(1,20,2)]\n",
        "print(y)"
      ],
      "execution_count": null,
      "outputs": [
        {
          "output_type": "stream",
          "text": [
            "[1, 3, 5, 7, 9, 11, 13, 15, 17, 19]\n"
          ],
          "name": "stdout"
        }
      ]
    },
    {
      "cell_type": "code",
      "metadata": {
        "id": "XUyITq_AOMVG",
        "outputId": "e4bdbe76-2b87-4ff2-dc54-0a35f7784426",
        "colab": {
          "base_uri": "https://localhost:8080/",
          "height": 312
        }
      },
      "source": [
        "plt.plot(x,y)\n",
        "plt.xlabel(\"x-axis\")\n",
        "plt.ylabel(\"y-axis\")\n",
        "plt.title(\"y=2*x\")"
      ],
      "execution_count": null,
      "outputs": [
        {
          "output_type": "execute_result",
          "data": {
            "text/plain": [
              "Text(0.5, 1.0, 'y=2*x')"
            ]
          },
          "metadata": {
            "tags": []
          },
          "execution_count": 127
        },
        {
          "output_type": "display_data",
          "data": {
            "image/png": "[encoded data removed]",
            "text/plain": [
              "<Figure size 432x288 with 1 Axes>"
            ]
          },
          "metadata": {
            "tags": [],
            "needs_background": "light"
          }
        }
      ]
    },
    {
      "cell_type": "code",
      "metadata": {
        "id": "hdpR8dVTOm-x",
        "outputId": "18bd3871-69ff-4ac7-d7f4-d8f98f5cb29e",
        "colab": {
          "base_uri": "https://localhost:8080/",
          "height": 282
        }
      },
      "source": [
        "plt.scatter(x,y)"
      ],
      "execution_count": null,
      "outputs": [
        {
          "output_type": "execute_result",
          "data": {
            "text/plain": [
              "<matplotlib.collections.PathCollection at 0x7f3e8048dcf8>"
            ]
          },
          "metadata": {
            "tags": []
          },
          "execution_count": 128
        },
        {
          "output_type": "display_data",
          "data": {
            "image/png": "[encoded data removed]",
            "text/plain": [
              "<Figure size 432x288 with 1 Axes>"
            ]
          },
          "metadata": {
            "tags": [],
            "needs_background": "light"
          }
        }
      ]
    },
    {
      "cell_type": "code",
      "metadata": {
        "id": "fgWTKlkxPUKz"
      },
      "source": [
        "from sklearn.model_selection import train_test_split\n",
        "from sklearn.metrics import accuracy_score\n",
        "from sklearn.preprocessing import LabelEncoder"
      ],
      "execution_count": null,
      "outputs": []
    },
    {
      "cell_type": "code",
      "metadata": {
        "id": "1vO-uyRxPhqG",
        "outputId": "ad5a0ea5-a2ee-49eb-9b64-c6ef06eeb453",
        "colab": {
          "base_uri": "https://localhost:8080/",
          "height": 353
        }
      },
      "source": [
        "from sklearn import datasets\n",
        "iris=datasets.load_iris()\n",
        "x=iris.data\n",
        "y=iris.target\n",
        "print(x.shape)\n",
        "print(y.shape)\n",
        "print(x[:15])\n",
        "print(y[:15])\n",
        "print(\"Feature variables\",iris.feature_names)\n",
        "print(\"Target Variable\",iris.target_names)"
      ],
      "execution_count": null,
      "outputs": [
        {
          "output_type": "stream",
          "text": [
            "(150, 4)\n",
            "(150,)\n",
            "[[5.1 3.5 1.4 0.2]\n",
            " [4.9 3.  1.4 0.2]\n",
            " [4.7 3.2 1.3 0.2]\n",
            " [4.6 3.1 1.5 0.2]\n",
            " [5.  3.6 1.4 0.2]\n",
            " [5.4 3.9 1.7 0.4]\n",
            " [4.6 3.4 1.4 0.3]\n",
            " [5.  3.4 1.5 0.2]\n",
            " [4.4 2.9 1.4 0.2]\n",
            " [4.9 3.1 1.5 0.1]\n",
            " [5.4 3.7 1.5 0.2]\n",
            " [4.8 3.4 1.6 0.2]\n",
            " [4.8 3.  1.4 0.1]\n",
            " [4.3 3.  1.1 0.1]\n",
            " [5.8 4.  1.2 0.2]]\n",
            "[0 0 0 0 0 0 0 0 0 0 0 0 0 0 0]\n",
            "Feature variables ['sepal length (cm)', 'sepal width (cm)', 'petal length (cm)', 'petal width (cm)']\n",
            "Target Variable ['setosa' 'versicolor' 'virginica']\n"
          ],
          "name": "stdout"
        }
      ]
    },
    {
      "cell_type": "code",
      "metadata": {
        "id": "kd9NmIHeR9Ds",
        "outputId": "f31bcaf2-625c-40ac-f051-8af92ac25e95",
        "colab": {
          "base_uri": "https://localhost:8080/",
          "height": 50
        }
      },
      "source": [
        "X,X1,Y,Y1=train_test_split(x,y,test_size=0.3)\n",
        "print(\"Trainings size\",X.shape,Y.shape)\n",
        "print(\"Test size\",X1.shape,Y1.shape)"
      ],
      "execution_count": null,
      "outputs": [
        {
          "output_type": "stream",
          "text": [
            "Trainings size (105, 4) (105,)\n",
            "Test size (45, 4) (45,)\n"
          ],
          "name": "stdout"
        }
      ]
    },
    {
      "cell_type": "code",
      "metadata": {
        "id": "zMb81BCRSlca",
        "outputId": "b8d4c88f-ed1b-4379-e228-9d34f393fcbd",
        "colab": {
          "base_uri": "https://localhost:8080/",
          "height": 84
        }
      },
      "source": [
        "from sklearn.neighbors import KNeighborsClassifier\n",
        "knn=KNeighborsClassifier(n_neighbors=5)\n",
        "knn.fit(X,Y)\n",
        "print(knn)\n",
        "predict=knn.predict(X1)\n",
        "accuracy=accuracy_score(Y1,predict)\n",
        "print(\"Accuracy =\",accuracy*100,\"%\")"
      ],
      "execution_count": null,
      "outputs": [
        {
          "output_type": "stream",
          "text": [
            "KNeighborsClassifier(algorithm='auto', leaf_size=30, metric='minkowski',\n",
            "                     metric_params=None, n_jobs=None, n_neighbors=5, p=2,\n",
            "                     weights='uniform')\n",
            "Accuracy = 95.55555555555556 %\n"
          ],
          "name": "stdout"
        }
      ]
    },
    {
      "cell_type": "markdown",
      "metadata": {
        "id": "3rHm6G2qaCUl"
      },
      "source": [
        "Support Vector Machine(SVM) "
      ]
    },
    {
      "cell_type": "code",
      "metadata": {
        "id": "HP3pHpzoaGr-",
        "outputId": "f68747a7-75d8-48e5-c43e-d77414d9f87d",
        "colab": {
          "base_uri": "https://localhost:8080/",
          "height": 34
        }
      },
      "source": [
        "classes=list(iris.target_names)\n",
        "print(classes)\n"
      ],
      "execution_count": null,
      "outputs": [
        {
          "output_type": "stream",
          "text": [
            "['setosa', 'versicolor', 'virginica']\n"
          ],
          "name": "stdout"
        }
      ]
    },
    {
      "cell_type": "code",
      "metadata": {
        "id": "rDoiuheiatyn",
        "outputId": "9065dbb1-bd89-4a44-de5b-439e8c4bf264",
        "colab": {
          "base_uri": "https://localhost:8080/",
          "height": 101
        }
      },
      "source": [
        "from sklearn import svm\n",
        "model=svm.SVC()\n",
        "model.fit(X,Y)\n",
        "print(model) # printing model\n",
        "svm_predict=model.predict(X1)\n",
        "svm_accuracy=accuracy_score(Y1,svm_predict)\n",
        "print(\"SVM Accuracy = \",svm_accuracy*100)\n"
      ],
      "execution_count": null,
      "outputs": [
        {
          "output_type": "stream",
          "text": [
            "SVC(C=1.0, break_ties=False, cache_size=200, class_weight=None, coef0=0.0,\n",
            "    decision_function_shape='ovr', degree=3, gamma='scale', kernel='rbf',\n",
            "    max_iter=-1, probability=False, random_state=None, shrinking=True,\n",
            "    tol=0.001, verbose=False)\n",
            "SVM Accuracy =  93.33333333333333\n"
          ],
          "name": "stdout"
        }
      ]
    },
    {
      "cell_type": "markdown",
      "metadata": {
        "id": "RYhgwZU5cJa_"
      },
      "source": [
        "Linear Regression using Boston House dataset"
      ]
    },
    {
      "cell_type": "code",
      "metadata": {
        "id": "-24pfQDicPsn",
        "outputId": "f4311033-fd1a-4d18-eede-ad268e57a6ac",
        "colab": {
          "base_uri": "https://localhost:8080/",
          "height": 50
        }
      },
      "source": [
        "boston=datasets.load_boston()\n",
        "print(boston.feature_names)"
      ],
      "execution_count": null,
      "outputs": [
        {
          "output_type": "stream",
          "text": [
            "['CRIM' 'ZN' 'INDUS' 'CHAS' 'NOX' 'RM' 'AGE' 'DIS' 'RAD' 'TAX' 'PTRATIO'\n",
            " 'B' 'LSTAT']\n"
          ],
          "name": "stdout"
        }
      ]
    },
    {
      "cell_type": "code",
      "metadata": {
        "id": "NzXG_FYofFcy",
        "outputId": "70ff059d-8ed3-4c77-bbde-f5e21b704ff9",
        "colab": {
          "base_uri": "https://localhost:8080/",
          "height": 282
        }
      },
      "source": [
        "from sklearn import linear_model\n",
        "x=boston.data\n",
        "y=boston.target\n",
        "regression=linear_model.LinearRegression()\n",
        "plt.scatter(x.T[5],y)"
      ],
      "execution_count": null,
      "outputs": [
        {
          "output_type": "execute_result",
          "data": {
            "text/plain": [
              "<matplotlib.collections.PathCollection at 0x7f3e803f9358>"
            ]
          },
          "metadata": {
            "tags": []
          },
          "execution_count": 136
        },
        {
          "output_type": "display_data",
          "data": {
            "image/png": "[encoded data removed]",
            "text/plain": [
              "<Figure size 432x288 with 1 Axes>"
            ]
          },
          "metadata": {
            "tags": [],
            "needs_background": "light"
          }
        }
      ]
    },
    {
      "cell_type": "markdown",
      "metadata": {
        "id": "BbYfsadxh6zZ"
      },
      "source": [
        "\n",
        "\n",
        "> Splitting the datasets\n",
        "\n"
      ]
    },
    {
      "cell_type": "code",
      "metadata": {
        "id": "givquJEdf7sH",
        "outputId": "23a39a61-826b-4cb0-d75e-d5838a212f63",
        "colab": {
          "base_uri": "https://localhost:8080/",
          "height": 50
        }
      },
      "source": [
        "x,x1,y,y1=train_test_split(x,y,test_size=0.25,random_state=1)\n",
        "print(x.shape,y.shape)\n",
        "print(x1.shape,y1.shape)"
      ],
      "execution_count": null,
      "outputs": [
        {
          "output_type": "stream",
          "text": [
            "(379, 13) (379,)\n",
            "(127, 13) (127,)\n"
          ],
          "name": "stdout"
        }
      ]
    },
    {
      "cell_type": "markdown",
      "metadata": {
        "id": "dHwzpCLch_Nd"
      },
      "source": [
        "\n",
        "\n",
        "> Training the model for one features\n",
        "\n",
        "\n",
        "\n",
        "\n",
        "\n",
        "\n",
        "\n"
      ]
    },
    {
      "cell_type": "code",
      "metadata": {
        "id": "MbgaNwsdiOF-",
        "outputId": "78b57a84-529d-47c3-a2d1-eeba5d3c7d6a",
        "colab": {
          "base_uri": "https://localhost:8080/",
          "height": 34
        }
      },
      "source": [
        "linearmodel=regression.fit(x,y)\n",
        "linear_outcome=linearmodel.predict(x1)\n",
        "#coefficient of determination (𝑅²) with .score()\n",
        "print(\"R^2 score : \",regression.score(x,y))"
      ],
      "execution_count": null,
      "outputs": [
        {
          "output_type": "stream",
          "text": [
            "R^2 score :  0.7168057552393374\n"
          ],
          "name": "stdout"
        }
      ]
    },
    {
      "cell_type": "code",
      "metadata": {
        "id": "yQBU50L8rJhk",
        "outputId": "f73e3d04-c684-4767-da6f-5988f1d02b86",
        "colab": {
          "base_uri": "https://localhost:8080/",
          "height": 504
        }
      },
      "source": [
        "print(\"Actual values\",x1)\n",
        "print(\"Predicted value\",linear_outcome)"
      ],
      "execution_count": null,
      "outputs": [
        {
          "output_type": "stream",
          "text": [
            "Actual values [[4.9320e-02 3.3000e+01 2.1800e+00 ... 1.8400e+01 3.9690e+02 7.5300e+00]\n",
            " [2.5430e-02 5.5000e+01 3.7800e+00 ... 1.7600e+01 3.9690e+02 7.1800e+00]\n",
            " [2.2927e-01 0.0000e+00 6.9100e+00 ... 1.7900e+01 3.9274e+02 1.8800e+01]\n",
            " ...\n",
            " [4.2970e-02 5.2500e+01 5.3200e+00 ... 1.6600e+01 3.7172e+02 9.5100e+00]\n",
            " [2.3912e-01 0.0000e+00 9.6900e+00 ... 1.9200e+01 3.9690e+02 1.2920e+01]\n",
            " [8.2650e-02 0.0000e+00 1.3920e+01 ... 1.6000e+01 3.9690e+02 8.5800e+00]]\n",
            "Predicted value [32.37816533 27.95684437 18.07213891 21.63166556 18.93029508 19.96277202\n",
            " 32.2834674  18.06715668 24.72989076 26.85359369 27.23326816 28.57021239\n",
            " 21.18778302 26.94393815 23.37892579 20.89176865 17.11746934 37.73997945\n",
            " 30.51980066  8.44489436 20.86557977 16.21989418 25.13605925 24.77658813\n",
            " 31.40497629 11.02741407 13.82097563 16.80208261 35.94637198 14.7155729\n",
            " 21.23939821 14.15079469 42.72492585 17.83887162 21.84610225 20.40178099\n",
            " 17.50287927 27.00093206  9.80760408 20.00288662 24.27066782 21.06719021\n",
            " 29.47089776 16.48482565 19.38852695 14.54778282 39.39838319 18.09810655\n",
            " 26.22164983 20.60676525 25.09994066 24.48366723 25.02297948 26.84986898\n",
            "  5.01517985 24.12809513 10.72843392 26.83178157 16.8023533  35.48142073\n",
            " 19.50937911 27.43260347 16.58016763 19.151488   10.9990262  32.05016535\n",
            " 36.32672849 21.8596379  24.8158357  25.32934192 23.36795453  6.98356201\n",
            " 16.83774771 20.27043864 20.74890857 21.85918305 34.17775836 27.94673486\n",
            " 24.86029952 34.43415796 18.61651831 24.02302532 34.45439496 13.32264718\n",
            " 20.7154011  30.1583435  17.06611728 24.20119805 19.18051951 16.98160423\n",
            " 26.8073424  41.02666829 14.44767989 23.26993252 14.93803206 21.93017824\n",
            " 22.81878103 29.16467031 36.7033389  20.41387117 17.86800518 17.49942601\n",
            " 25.07246443 21.9827349   8.28652561 21.52177032 16.50788716 33.00114509\n",
            " 24.49693379 25.08491201 38.29621948 28.93273167 14.85478187 34.7429184\n",
            " 35.50029467 32.89599805 20.98069467 16.67849644 34.24728954 39.01179205\n",
            " 21.57169864 15.71337489 27.33121768 18.73350137 27.27438226 21.16402252\n",
            " 26.00459084]\n"
          ],
          "name": "stdout"
        }
      ]
    }
  ]
}