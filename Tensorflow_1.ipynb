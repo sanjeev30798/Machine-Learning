{
  "nbformat": 4,
  "nbformat_minor": 0,
  "metadata": {
    "colab": {
      "name": "Tensorflow_1.ipynb",
      "provenance": [],
      "collapsed_sections": [],
      "authorship_tag": "ABX9TyMlAgmEKBeUBCawP8HR5kjF",
      "include_colab_link": true
    },
    "kernelspec": {
      "name": "python3",
      "display_name": "Python 3"
    }
  },
  "cells": [
    {
      "cell_type": "markdown",
      "metadata": {
        "id": "view-in-github",
        "colab_type": "text"
      },
      "source": [
        "<a href=\"https://colab.research.google.com/github/sanjeev30798/Machine-Learning/blob/main/Tensorflow_1.ipynb\" target=\"_parent\"><img src=\"https://colab.research.google.com/assets/colab-badge.svg\" alt=\"Open In Colab\"/></a>"
      ]
    },
    {
      "cell_type": "markdown",
      "metadata": {
        "id": "i11tu9mgIGCg"
      },
      "source": [
        "\n",
        "\n",
        "> Tensorflow is a deep learning framework developed by Google\n",
        "\n"
      ]
    },
    {
      "cell_type": "markdown",
      "metadata": {
        "id": "EO5WgnMSIXkj"
      },
      "source": [
        "\n",
        "\n",
        "> Tensor is a multi dimension array and flow means flow of data in an operation\n",
        "\n"
      ]
    },
    {
      "cell_type": "markdown",
      "metadata": {
        "id": "JhuxXxa2IkhD"
      },
      "source": [
        "\n",
        "\n",
        "> There are four main tensors we can create :\n",
        "\n",
        ">tf.Variable, tf.constant, tf.placeholder, tf.SparseTensor\n",
        "\n",
        "\n",
        "\n",
        "\n",
        "\n"
      ]
    },
    {
      "cell_type": "code",
      "metadata": {
        "id": "Cq9AEfnyJCyv"
      },
      "source": [
        "import tensorflow as tf"
      ],
      "execution_count": 58,
      "outputs": []
    },
    {
      "cell_type": "code",
      "metadata": {
        "id": "58M0LK49JdnT",
        "outputId": "b99b1a09-d621-445f-bd8c-05b293f4e53c",
        "colab": {
          "base_uri": "https://localhost:8080/",
          "height": 34
        }
      },
      "source": [
        "tensor=tf.constant(2,dtype=tf.int16,name=\"num1\")\n",
        "print(tensor)"
      ],
      "execution_count": 59,
      "outputs": [
        {
          "output_type": "stream",
          "text": [
            "Tensor(\"num1_1:0\", shape=(), dtype=int16)\n"
          ],
          "name": "stdout"
        }
      ]
    },
    {
      "cell_type": "code",
      "metadata": {
        "id": "aUFqlitdJ3B0",
        "outputId": "0c110a86-7bad-4fbb-aacc-c3a4fb7b30d5",
        "colab": {
          "base_uri": "https://localhost:8080/",
          "height": 34
        }
      },
      "source": [
        "tensor=tf.constant(\"sanjeev\",dtype=tf.string)\n",
        "print(tensor)"
      ],
      "execution_count": 60,
      "outputs": [
        {
          "output_type": "stream",
          "text": [
            "Tensor(\"Const_11:0\", shape=(), dtype=string)\n"
          ],
          "name": "stdout"
        }
      ]
    },
    {
      "cell_type": "code",
      "metadata": {
        "id": "v8R-ZwZNK2og",
        "outputId": "9d0d8f5a-cf48-4528-d43a-b490ebf9e5ed",
        "colab": {
          "base_uri": "https://localhost:8080/",
          "height": 34
        }
      },
      "source": [
        "tensor=tf.constant([2,3,4,5],dtype=tf.int32,name=\"one-dimension\")\n",
        "print(tensor)"
      ],
      "execution_count": 61,
      "outputs": [
        {
          "output_type": "stream",
          "text": [
            "Tensor(\"one-dimension_2:0\", shape=(4,), dtype=int32)\n"
          ],
          "name": "stdout"
        }
      ]
    },
    {
      "cell_type": "code",
      "metadata": {
        "id": "CHPNdOwSLUTb",
        "outputId": "70a6ce0d-c8c4-4efb-c769-6f0cbe326d38",
        "colab": {
          "base_uri": "https://localhost:8080/",
          "height": 34
        }
      },
      "source": [
        "tensor=tf.constant([[2,3,4,5],[5,6,7,8]],dtype=tf.int32,name=\"two-dimension\")\n",
        "print(tensor)"
      ],
      "execution_count": 62,
      "outputs": [
        {
          "output_type": "stream",
          "text": [
            "Tensor(\"two-dimension_1:0\", shape=(2, 4), dtype=int32)\n"
          ],
          "name": "stdout"
        }
      ]
    },
    {
      "cell_type": "code",
      "metadata": {
        "id": "-25x0jkOLq6V",
        "outputId": "371bcae1-3472-401c-b772-4fea0d544d74",
        "colab": {
          "base_uri": "https://localhost:8080/",
          "height": 67
        }
      },
      "source": [
        "tensor=tf.constant([[[2,3,4,5],[6,7,8,9],[10,1,12,13]]],dtype=tf.int32,name=\"one-dimension\")\n",
        "print(tensor)\n",
        "print(tensor.shape)\n",
        "print(tensor.dtype)"
      ],
      "execution_count": 63,
      "outputs": [
        {
          "output_type": "stream",
          "text": [
            "Tensor(\"one-dimension_3:0\", shape=(1, 3, 4), dtype=int32)\n",
            "(1, 3, 4)\n",
            "<dtype: 'int32'>\n"
          ],
          "name": "stdout"
        }
      ]
    },
    {
      "cell_type": "markdown",
      "metadata": {
        "id": "RNi1qP4HMdWW"
      },
      "source": [
        "\n",
        "\n",
        "> Tensorflow is used to create vectors for Neural Networks\n",
        "\n"
      ]
    },
    {
      "cell_type": "code",
      "metadata": {
        "id": "QHDtxV05Mm0l",
        "outputId": "62046298-1fdd-4d8a-dc01-d17c0427e72a",
        "colab": {
          "base_uri": "https://localhost:8080/",
          "height": 34
        }
      },
      "source": [
        "v1=tf.zeros(10)\n",
        "print(v1)"
      ],
      "execution_count": 64,
      "outputs": [
        {
          "output_type": "stream",
          "text": [
            "Tensor(\"zeros_1:0\", shape=(10,), dtype=float32)\n"
          ],
          "name": "stdout"
        }
      ]
    },
    {
      "cell_type": "code",
      "metadata": {
        "id": "-lti0FRFOsVm",
        "outputId": "b915eb1e-ac72-4fbc-990a-905e4fe44b9c",
        "colab": {
          "base_uri": "https://localhost:8080/",
          "height": 34
        }
      },
      "source": [
        "v2=tf.ones([3,5])\n",
        "print(v2)"
      ],
      "execution_count": 65,
      "outputs": [
        {
          "output_type": "stream",
          "text": [
            "Tensor(\"ones_10:0\", shape=(3, 5), dtype=float32)\n"
          ],
          "name": "stdout"
        }
      ]
    },
    {
      "cell_type": "code",
      "metadata": {
        "id": "ocqe9g3zO3FU",
        "outputId": "4d59fd27-1c01-4a63-d40f-a56946a1959e",
        "colab": {
          "base_uri": "https://localhost:8080/",
          "height": 34
        }
      },
      "source": [
        "v3=tf.cast(v2,dtype=tf.int16)\n",
        "print(v2)"
      ],
      "execution_count": 66,
      "outputs": [
        {
          "output_type": "stream",
          "text": [
            "Tensor(\"ones_10:0\", shape=(3, 5), dtype=float32)\n"
          ],
          "name": "stdout"
        }
      ]
    },
    {
      "cell_type": "code",
      "metadata": {
        "id": "dLtuzYWCPafm",
        "outputId": "33ac9693-6f30-4ded-f948-9cdbf103453b",
        "colab": {
          "base_uri": "https://localhost:8080/",
          "height": 67
        }
      },
      "source": [
        "v3=tf.ones([3,5])\n",
        "v4=tf.add(v2,v3)\n",
        "print(v4)\n",
        "v4=tf.subtract(v2,v3)\n",
        "print(v4)\n",
        "v4=tf.divide(v2,v3) # it's v2/v3\n",
        "print(v4)\n"
      ],
      "execution_count": 67,
      "outputs": [
        {
          "output_type": "stream",
          "text": [
            "Tensor(\"Add_3:0\", shape=(3, 5), dtype=float32)\n",
            "Tensor(\"Sub_1:0\", shape=(3, 5), dtype=float32)\n",
            "Tensor(\"truediv_1:0\", shape=(3, 5), dtype=float32)\n"
          ],
          "name": "stdout"
        }
      ]
    },
    {
      "cell_type": "markdown",
      "metadata": {
        "id": "ki8tIXtxQyHA"
      },
      "source": [
        "Tensorflow variables"
      ]
    },
    {
      "cell_type": "code",
      "metadata": {
        "id": "UX78dbgvQ959",
        "outputId": "a7cfbbfb-9c07-4a8b-a76a-31f4cb9c370d",
        "colab": {
          "base_uri": "https://localhost:8080/",
          "height": 101
        }
      },
      "source": [
        "var=tf.Variable(\"var\",[3,2]) #get_variable not supported\n",
        "print(var)\n",
        "print(var.shape)\n",
        "var=tf.Variable(tf.ones([3]),name=\"var\") #get_variable not supported\n",
        "print(var)\n",
        "print(var.shape)\n",
        "#creating another variable from var\n",
        "var2=tf.Variable(2*var.initialized_value(),name=\"var2\")\n",
        "print(var2)"
      ],
      "execution_count": 68,
      "outputs": [
        {
          "output_type": "stream",
          "text": [
            "<tf.Variable 'Variable_1:0' shape=() dtype=string>\n",
            "()\n",
            "<tf.Variable 'var_1:0' shape=(3,) dtype=float32>\n",
            "(3,)\n",
            "<tf.Variable 'var2_1:0' shape=(3,) dtype=float32>\n"
          ],
          "name": "stdout"
        }
      ]
    },
    {
      "cell_type": "markdown",
      "metadata": {
        "id": "CeUdyfZUZSUa"
      },
      "source": [
        "Sessions in Tensorflow"
      ]
    },
    {
      "cell_type": "code",
      "metadata": {
        "id": "MeplgQ9ZNPPj",
        "outputId": "6eefa1a2-f9e1-41cd-9160-979620a48b1c",
        "colab": {
          "base_uri": "https://localhost:8080/",
          "height": 34
        }
      },
      "source": [
        "c1=tf.constant([2,3],dtype=tf.int32)\n",
        "c2=tf.constant([2,3],dtype=tf.int32)\n",
        "res=tf.multiply(c1,c2)  \n",
        "sess1=tf.compat.v1.Session()\n",
        "print(sess1.run(res))\n",
        "sess1.close()"
      ],
      "execution_count": 69,
      "outputs": [
        {
          "output_type": "stream",
          "text": [
            "[4 9]\n"
          ],
          "name": "stdout"
        }
      ]
    },
    {
      "cell_type": "code",
      "metadata": {
        "id": "LhJviSyYcYS2",
        "outputId": "5315c211-e59d-4dfb-87b3-c40bbcdaa22a",
        "colab": {
          "base_uri": "https://localhost:8080/",
          "height": 50
        }
      },
      "source": [
        "with tf.compat.v1.Session() as sess2:\n",
        "  c1=tf.ones([2,2],dtype=tf.int32) # by default tf.ones create float32 type data or tensor or array\n",
        "  c2=tf.constant([[2,1],[3,2]])\n",
        "  res=tf.multiply(c1,c2)\n",
        "  print(sess2.run(res))\n",
        "  #advantage is that no need to close the session and it automatically closes it"
      ],
      "execution_count": 70,
      "outputs": [
        {
          "output_type": "stream",
          "text": [
            "[[2 1]\n",
            " [3 2]]\n"
          ],
          "name": "stdout"
        }
      ]
    }
  ]
}